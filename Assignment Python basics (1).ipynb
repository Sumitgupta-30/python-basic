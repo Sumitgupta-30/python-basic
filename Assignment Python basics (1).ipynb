{
 "cells": [
  {
   "cell_type": "markdown",
   "id": "3b3452d4-2686-4be4-af73-6902bdcd3335",
   "metadata": {},
   "source": [
    "Theoritical Questions/Answers\n"
   ]
  },
  {
   "cell_type": "code",
   "execution_count": null,
   "id": "f9acf5b3-699d-443b-ac2a-d9407f893954",
   "metadata": {},
   "outputs": [],
   "source": [
    "#1) What is Python, and why is it popular?\n",
    "#Ans.)* Python is an high level and object-oriented programming language used in data science for web development and other works.\n",
    "     #* It was developed by Guido van Rossum in 1991.\n",
    "     # * It is popoular as it is easy to understand,open-source,has large number of libraries,works in various domain and also helps in functional and obeject-oriented programming."
   ]
  },
  {
   "cell_type": "code",
   "execution_count": null,
   "id": "860822e7-a321-45e8-b0fe-62ece399c5d0",
   "metadata": {},
   "outputs": [],
   "source": [
    "#2) What is an interpreter in Python?\n",
    "#Ans.) Interpreter in python translates the programming language/code into a machine language to run the code."
   ]
  },
  {
   "cell_type": "code",
   "execution_count": null,
   "id": "a8287a39-8993-4db5-a344-c93bea844c73",
   "metadata": {},
   "outputs": [],
   "source": [
    "#3) What are pre-defined keywords in Python?\n",
    "#Ans.)* Pre-defined keywords are words in python which have special meaning and cannot be used as variables or identifiers.\n",
    "    # * These are case-sensitive and cannot be redefined or overridden within a Python program.\n",
    "    #* Example- if, else, while, for, def, class, import, try, except, return, True, False, None, etc."
   ]
  },
  {
   "cell_type": "code",
   "execution_count": null,
   "id": "04ca615d-2257-4fc4-93c9-4b553b3c7bb8",
   "metadata": {},
   "outputs": [],
   "source": [
    "#4) Can keywords be used as variable names?\n",
    "#Ans.) No, keywords cannot be used as variable names as they are predefined and have speacial meanings."
   ]
  },
  {
   "cell_type": "code",
   "execution_count": null,
   "id": "86149705-3850-4833-b3a3-185c63056c12",
   "metadata": {},
   "outputs": [],
   "source": [
    "#5) What is mutability in Python?\n",
    "#Ans.) The objects which can be modified or manipulated are called mutable objects and this ability to change is called mutability.\n",
    "    #* Example - lists,dictionaries, etc."
   ]
  },
  {
   "cell_type": "code",
   "execution_count": null,
   "id": "309a8e3d-609f-435c-a143-7a3767050003",
   "metadata": {},
   "outputs": [],
   "source": [
    "#6) Why are lists mutable, but tuples are immutable?\n",
    "#Ans.) The items/entries in the lists can be changed easily by some codes, so it is mutable, but items or entries in tuples cannot be changed, hence, it is immutable."
   ]
  },
  {
   "cell_type": "code",
   "execution_count": null,
   "id": "89026106-03c3-4edf-b991-64766714ead8",
   "metadata": {},
   "outputs": [],
   "source": [
    "#7) What is the difference between “==” and “is” operators in Python?\n",
    "#Ans.) '==' in python is comaparison operator and used to compare the equality of variables of both sides while 'is' in python is an identity operator         used to check if two variables refer to the same object in memory."
   ]
  },
  {
   "cell_type": "code",
   "execution_count": null,
   "id": "e0b08bfc-8390-4994-aed7-d605358c77f2",
   "metadata": {},
   "outputs": [],
   "source": [
    "#8) What are logical operators in Python?\n",
    "#Ans.)* Logical operators in Python are used to combine multiple conditions and evaluate them as a single Boolean expression.\n",
    "     #* There are three main logical operators in Python: \n",
    "       #and: Returns True if both operands are true, otherwise False.\n",
    "        #or: Returns True if at least one operand is true, otherwise False.\n",
    "        #not: Returns the opposite of the operand. If the operand is True, it returns False. If the operand is False, it returns True.\n"
   ]
  },
  {
   "cell_type": "code",
   "execution_count": null,
   "id": "85c4f29c-896c-41a1-a8f1-47dcc8fec746",
   "metadata": {},
   "outputs": [],
   "source": [
    "#9) What is type casting in Python?\n",
    "#Ans.)*Type casting, also known as type conversion, is the process of changing one data type to another in Python.\n",
    "     #*it works with built-in functions such as int(), float(), str(), list(), tuple(), dict(), etc."
   ]
  },
  {
   "cell_type": "code",
   "execution_count": null,
   "id": "e2f82b83-e049-4e35-9a9b-9eb77d8814b1",
   "metadata": {},
   "outputs": [],
   "source": [
    "#10) What is the difference between implicit and explicit type casting?\n",
    "#Ans.)*Implicit type casting is automatically performed by the compiler when it converts a smaller data type to a larger data type without any data loss.\n",
    "  #   * Explicit type casting, also known as type conversion, is done manually by the programmer using casting operators or built-in functions."
   ]
  },
  {
   "cell_type": "code",
   "execution_count": null,
   "id": "30d2fe00-80fe-466b-a8d8-444bcd9fe7ab",
   "metadata": {},
   "outputs": [],
   "source": [
    "#11) What is the purpose of conditional statements in Python?\n",
    "#Ans.) Conditional statements in Python is used to control the flow of a program based on certain conditions.\n",
    " #    * It helps to code decisions based on some predictions and conditions.\n",
    "  #   * It is of four types - if, if-else, if-elif-else, nested if-else."
   ]
  },
  {
   "cell_type": "code",
   "execution_count": null,
   "id": "ff561966-b30c-4580-b433-e4653ea06fb4",
   "metadata": {},
   "outputs": [],
   "source": [
    "#12) How does the elif statement work?\n",
    "#Ans.) The “elif” keyword in Python, stands for “else if”. It is used in conditional statements to check for multiple conditions.\n",
    " #    (example in next cell)"
   ]
  },
  {
   "cell_type": "code",
   "execution_count": 1,
   "id": "d7f148e5-c872-40a9-8daa-941db637932b",
   "metadata": {},
   "outputs": [
    {
     "name": "stdout",
     "output_type": "stream",
     "text": [
      "this block will be executed if a is lesser than 100\n"
     ]
    }
   ],
   "source": [
    "#example of elif statement\n",
    "a =10\n",
    "if a > 100:\n",
    "    print(\"this block will be executed if a is greater than 100\")\n",
    "elif a < 100:\n",
    "    print(\"this block will be executed if a is lesser than 100\")\n",
    "else:\n",
    "    print(\"the number is equal to 100\")"
   ]
  },
  {
   "cell_type": "code",
   "execution_count": null,
   "id": "626187b2-2913-488e-9fe3-e5974b1eff57",
   "metadata": {},
   "outputs": [],
   "source": [
    "#13)  What is the difference between for and while loops?\n",
    "#Ans.) *For loop: used when the number of iterations is known in advance. It repeats a block of code for each item in a list or sequence.\n",
    "              #   For example, we can use a for loop to print out all the elements of a vector.\n",
    "    #  *While loop: Used when the number of iterations is unknown in advance. It repeats a block of code as long as a certain condition is true.                            For example, we can use a while loop to ask a user for a number between 1 and 10."
   ]
  },
  {
   "cell_type": "code",
   "execution_count": null,
   "id": "218be537-dfad-4dfb-9dfc-f3a7d1d3fa81",
   "metadata": {},
   "outputs": [],
   "source": [
    "#14)  Describe a scenario where a while loop is more suitable than a for loop.\n",
    "#Ans.)  a 'while' loop is ideal for situations where the number of iterations is not predetermined and depends on some dynamic conditions,\n",
    "#  for example, writing an program for entering an age in input."
   ]
  },
  {
   "cell_type": "markdown",
   "id": "638fe587-2524-463d-bf21-427504532116",
   "metadata": {},
   "source": [
    "\n",
    "Practical Questions/Answers"
   ]
  },
  {
   "cell_type": "code",
   "execution_count": 5,
   "id": "0e0f6007-0038-4484-b9ad-d713674298d2",
   "metadata": {},
   "outputs": [
    {
     "name": "stdout",
     "output_type": "stream",
     "text": [
      "Hello, World!\n"
     ]
    }
   ],
   "source": [
    "#Write a Python program to print \"Hello, World!\" ?\n",
    "print(\"Hello, World!\")\n"
   ]
  },
  {
   "cell_type": "code",
   "execution_count": 1,
   "id": "f8f3482f-241c-4986-bbcf-0f4ee90edb68",
   "metadata": {},
   "outputs": [
    {
     "name": "stdin",
     "output_type": "stream",
     "text": [
      "enter your name sumit gupta\n"
     ]
    },
    {
     "name": "stdout",
     "output_type": "stream",
     "text": [
      "my name is: sumit gupta\n"
     ]
    },
    {
     "name": "stdin",
     "output_type": "stream",
     "text": [
      "enter your age 21\n"
     ]
    },
    {
     "name": "stdout",
     "output_type": "stream",
     "text": [
      "my age is: 21\n"
     ]
    }
   ],
   "source": [
    "#Write a Python program that displays your name and age\n",
    "name = input(\"enter your name\")\n",
    "print(\"my name is:\", name)\n",
    "age = int(input(\"enter your age\"))\n",
    "print(\"my age is:\", age)\n"
   ]
  },
  {
   "cell_type": "code",
   "execution_count": 3,
   "id": "bf081659-cbb5-48bf-8256-3d11785bf9d6",
   "metadata": {},
   "outputs": [
    {
     "name": "stdout",
     "output_type": "stream",
     "text": [
      "\n",
      "Here is a list of the Python keywords.  Enter any keyword to get more help.\n",
      "\n",
      "False               class               from                or\n",
      "None                continue            global              pass\n",
      "True                def                 if                  raise\n",
      "and                 del                 import              return\n",
      "as                  elif                in                  try\n",
      "assert              else                is                  while\n",
      "async               except              lambda              with\n",
      "await               finally             nonlocal            yield\n",
      "break               for                 not                 \n",
      "\n"
     ]
    }
   ],
   "source": [
    "#Write code to print all the pre-defined keywords in Python using the keyword library.\n",
    "help('keywords')"
   ]
  },
  {
   "cell_type": "code",
   "execution_count": 5,
   "id": "e44e95b6-2b0a-4e7a-84b6-c89a4a2be19e",
   "metadata": {},
   "outputs": [
    {
     "name": "stdin",
     "output_type": "stream",
     "text": [
      "Enter a word:  True\n"
     ]
    },
    {
     "name": "stdout",
     "output_type": "stream",
     "text": [
      "True is a Python keyword.\n"
     ]
    }
   ],
   "source": [
    "#Write a program that checks if a given word is a Python keyword.\n",
    "import keyword\n",
    "\n",
    "def is_keyword(word):\n",
    "  return keyword.iskeyword(word)\n",
    "\n",
    "word = input(\"Enter a word: \")\n",
    "\n",
    "if is_keyword(word):\n",
    "  print(f\"{word} is a Python keyword.\")\n",
    "else:\n",
    "  print(f\"{word} is not a Python keyword.\")"
   ]
  },
  {
   "cell_type": "code",
   "execution_count": 21,
   "id": "92604387-1d19-4743-9f92-1a46671744ee",
   "metadata": {},
   "outputs": [
    {
     "data": {
      "text/plain": [
       "[1, 2, 3, (3+5j), True, 'sumit']"
      ]
     },
     "execution_count": 21,
     "metadata": {},
     "output_type": "execute_result"
    }
   ],
   "source": [
    "#Create a list and tuple in Python, and demonstrate how attempting to change an element works differently for each\n",
    "list_cont = [1,2,3,3+5j, True, \"sumit\"]\n",
    "list_cont\n",
    "(#changing element is in next cell)"
   ]
  },
  {
   "cell_type": "code",
   "execution_count": 23,
   "id": "aeed7c91-42d7-4b38-9751-ad069108aefe",
   "metadata": {},
   "outputs": [
    {
     "data": {
      "text/plain": [
       "[1, 2, 3, (3+5j), False, 'sumit']"
      ]
     },
     "execution_count": 23,
     "metadata": {},
     "output_type": "execute_result"
    }
   ],
   "source": [
    "#changing an element in this list\n",
    "list_cont[4] = False\n",
    "list_cont\n",
    "#the 4th element in this list gets changed."
   ]
  },
  {
   "cell_type": "code",
   "execution_count": 25,
   "id": "c20d483f-f0a4-491e-b2f0-1b6ca8113c09",
   "metadata": {},
   "outputs": [
    {
     "name": "stdout",
     "output_type": "stream",
     "text": [
      "Before function call:\n",
      "Immutable argument: 10\n",
      "Mutable argument: [1, 2, 3]\n",
      "Inside the function:\n",
      "Immutable argument: 11\n",
      "Mutable argument: [1, 2, 3, 4]\n",
      "After function call:\n",
      "Immutable argument: 10\n",
      "Mutable argument: [1, 2, 3, 4]\n"
     ]
    }
   ],
   "source": [
    "#Write a function to demonstrate the behavior of mutable and immutable arguments.\n",
    "def modify_arguments(immutable_arg, mutable_arg):\n",
    "    \"\"\"Demonstrates the behavior of mutable and immutable arguments.\"\"\"\n",
    "\n",
    "    immutable_arg += 1\n",
    "    mutable_arg.append(4)\n",
    "\n",
    "    print(\"Inside the function:\")\n",
    "    print(\"Immutable argument:\", immutable_arg)\n",
    "    print(\"Mutable argument:\", mutable_arg)\n",
    "\n",
    "\n",
    "# Initialize variables\n",
    "int_value = 10\n",
    "list_value = [1, 2, 3]\n",
    "\n",
    "print(\"Before function call:\")\n",
    "print(\"Immutable argument:\", int_value)\n",
    "print(\"Mutable argument:\", list_value)\n",
    "\n",
    "# Call the function\n",
    "modify_arguments(int_value, list_value)\n",
    "\n",
    "print(\"After function call:\")\n",
    "print(\"Immutable argument:\", int_value)\n",
    "print(\"Mutable argument:\", list_value)"
   ]
  },
  {
   "cell_type": "code",
   "execution_count": 31,
   "id": "c9070d6c-a98a-4bad-88df-df405758cd1c",
   "metadata": {},
   "outputs": [
    {
     "name": "stdout",
     "output_type": "stream",
     "text": [
      "Both x and y are positive\n",
      "At least one of a or b is greater than 10\n",
      "It's not raining outside\n"
     ]
    }
   ],
   "source": [
    "#Write a program to demonstrate the use of logical operators.\n",
    "# Logical AND\n",
    "x = 5\n",
    "y = 10\n",
    "\n",
    "if x > 0 and y > 0:\n",
    "    print(\"Both x and y are positive\")\n",
    "\n",
    "# Logical OR\n",
    "a = 15\n",
    "b = 0\n",
    "\n",
    "if a > 10 or b > 10:\n",
    "    print(\"At least one of a or b is greater than 10\")\n",
    "\n",
    "# Logical NOT\n",
    "is_raining = False\n",
    "\n",
    "if not is_raining:\n",
    "    print(\"It's not raining outside\")"
   ]
  },
  {
   "cell_type": "code",
   "execution_count": 33,
   "id": "b6017eec-bc00-4a9d-aaed-e15e74ecd8f5",
   "metadata": {},
   "outputs": [
    {
     "data": {
      "text/plain": [
       "'2'"
      ]
     },
     "execution_count": 33,
     "metadata": {},
     "output_type": "execute_result"
    }
   ],
   "source": [
    "#Write a Python program to convert user input from string to integer, float, and boolean types.\n",
    "#string to integer\n",
    "a = \"2\"\n",
    "a"
   ]
  },
  {
   "cell_type": "code",
   "execution_count": 35,
   "id": "36f1a6f4-5575-4769-a0d1-eb4ddeeb1b6d",
   "metadata": {},
   "outputs": [
    {
     "data": {
      "text/plain": [
       "str"
      ]
     },
     "execution_count": 35,
     "metadata": {},
     "output_type": "execute_result"
    }
   ],
   "source": [
    "type(a)"
   ]
  },
  {
   "cell_type": "code",
   "execution_count": 39,
   "id": "e87c3c3a-d590-4757-985c-5bec4ffe5855",
   "metadata": {},
   "outputs": [
    {
     "data": {
      "text/plain": [
       "int"
      ]
     },
     "execution_count": 39,
     "metadata": {},
     "output_type": "execute_result"
    }
   ],
   "source": [
    "a = int(a)\n",
    "type(a)"
   ]
  },
  {
   "cell_type": "code",
   "execution_count": 45,
   "id": "c8c8599f-b24b-4ba5-bfc8-021ea4c1cb41",
   "metadata": {},
   "outputs": [
    {
     "data": {
      "text/plain": [
       "str"
      ]
     },
     "execution_count": 45,
     "metadata": {},
     "output_type": "execute_result"
    }
   ],
   "source": [
    "#string to float\n",
    "b = \"3.5\"\n",
    "type(b)"
   ]
  },
  {
   "cell_type": "code",
   "execution_count": 47,
   "id": "23d4cf6a-bcf5-4b37-9838-a4d468cfb1ce",
   "metadata": {},
   "outputs": [
    {
     "data": {
      "text/plain": [
       "float"
      ]
     },
     "execution_count": 47,
     "metadata": {},
     "output_type": "execute_result"
    }
   ],
   "source": [
    "b = float(b)\n",
    "type(b)\n"
   ]
  },
  {
   "cell_type": "code",
   "execution_count": 49,
   "id": "61198300-aa88-41f7-bfc2-5392a4e5c38f",
   "metadata": {},
   "outputs": [
    {
     "data": {
      "text/plain": [
       "str"
      ]
     },
     "execution_count": 49,
     "metadata": {},
     "output_type": "execute_result"
    }
   ],
   "source": [
    "#string to bool\n",
    "newgame= \"football\"\n",
    "type(newgame)"
   ]
  },
  {
   "cell_type": "code",
   "execution_count": 55,
   "id": "107fa41d-02ef-4378-95db-8a8bb3d5b824",
   "metadata": {},
   "outputs": [
    {
     "name": "stdout",
     "output_type": "stream",
     "text": [
      "True\n"
     ]
    }
   ],
   "source": [
    "y = bool(newgame)\n",
    "print(y)"
   ]
  },
  {
   "cell_type": "code",
   "execution_count": 72,
   "id": "94d74cf2-6884-4634-9c0d-db2db4d024dc",
   "metadata": {},
   "outputs": [
    {
     "data": {
      "text/plain": [
       "list"
      ]
     },
     "execution_count": 72,
     "metadata": {},
     "output_type": "execute_result"
    }
   ],
   "source": [
    "#Write code to demonstrate type casting with list elements.\n",
    "list_conti = [1,5,9,7+8j, True, \"assignment\"]\n",
    "type(list_conti)\n"
   ]
  },
  {
   "cell_type": "code",
   "execution_count": 68,
   "id": "ac9244b7-f880-4ecf-b59a-721dad4e334d",
   "metadata": {},
   "outputs": [
    {
     "data": {
      "text/plain": [
       "[1, 5, 9, 'pwskills', True, 'assignment']"
      ]
     },
     "execution_count": 68,
     "metadata": {},
     "output_type": "execute_result"
    }
   ],
   "source": [
    "list_conti[3]= \"pwskills\"\n",
    "list_conti\n",
    "#here the 3rd element in list was a float but now it has been replaced by an string."
   ]
  },
  {
   "cell_type": "code",
   "execution_count": 74,
   "id": "d925ee3d-8661-479c-8ce2-b7c128800442",
   "metadata": {},
   "outputs": [
    {
     "name": "stdout",
     "output_type": "stream",
     "text": [
      "the number is positive\n"
     ]
    }
   ],
   "source": [
    "#Write a program that checks if a number is positive, negative, or zero.\n",
    "x = 1\n",
    "if x > 0:\n",
    "    print(\"the number is positive\")\n",
    "elif x < 0:\n",
    "    print(\"the number is negative\")\n",
    "else:\n",
    "    print(\"the number is equal to zero\")"
   ]
  },
  {
   "cell_type": "code",
   "execution_count": 76,
   "id": "59794a64-ca68-4aba-a396-8f92b2e0e6c9",
   "metadata": {},
   "outputs": [
    {
     "name": "stdout",
     "output_type": "stream",
     "text": [
      "the number is negative\n"
     ]
    }
   ],
   "source": [
    "#similarly if x = -1\n",
    "x = -1\n",
    "if x > 0:\n",
    "    print(\"the number is positive\")\n",
    "elif x < 0:\n",
    "    print(\"the number is negative\")\n",
    "else:\n",
    "    print(\"the number is equal to zero\")"
   ]
  },
  {
   "cell_type": "code",
   "execution_count": 79,
   "id": "3d7d170c-c8ce-426f-9a26-dabcdb673dda",
   "metadata": {},
   "outputs": [
    {
     "name": "stdout",
     "output_type": "stream",
     "text": [
      "the number is equal to zero\n"
     ]
    }
   ],
   "source": [
    "#similarly if x = 0\n",
    "x = 0\n",
    "if x > 0:\n",
    "    print(\"the number is positive\")\n",
    "elif x < 0:\n",
    "    print(\"the number is negative\")\n",
    "else:\n",
    "    print(\"the number is equal to zero\")"
   ]
  },
  {
   "cell_type": "code",
   "execution_count": 89,
   "id": "b8fcf19d-0f98-4e16-8748-78c8814dc9b0",
   "metadata": {},
   "outputs": [
    {
     "name": "stdout",
     "output_type": "stream",
     "text": [
      "1 2 3 4 5 6 7 8 9 10 11 12 13 14 15 16 17 18 19 20 21 22 23 24 25 26 27 28 29 30 31 32 33 34 35 36 37 38 39 40 41 42 43 44 45 46 47 48 49 50 51 52 53 54 55 56 57 58 59 60 61 62 63 64 65 66 67 68 69 70 71 72 73 74 75 76 77 78 79 80 81 82 83 84 85 86 87 88 89 90 91 92 93 94 95 96 97 98 99 100 "
     ]
    }
   ],
   "source": [
    "#Write a for loop to print numbers from 1 to 100\n",
    "for number in range(1, 101):\n",
    "    print(number, end=\" \")"
   ]
  },
  {
   "cell_type": "code",
   "execution_count": 91,
   "id": "91a9ccec-df96-4081-9313-5f5bdba0645e",
   "metadata": {},
   "outputs": [
    {
     "name": "stdout",
     "output_type": "stream",
     "text": [
      "the sum of even numbers from 1 to 50 is: 2\n",
      "the sum of even numbers from 1 to 50 is: 6\n",
      "the sum of even numbers from 1 to 50 is: 12\n",
      "the sum of even numbers from 1 to 50 is: 20\n",
      "the sum of even numbers from 1 to 50 is: 30\n",
      "the sum of even numbers from 1 to 50 is: 42\n",
      "the sum of even numbers from 1 to 50 is: 56\n",
      "the sum of even numbers from 1 to 50 is: 72\n",
      "the sum of even numbers from 1 to 50 is: 90\n",
      "the sum of even numbers from 1 to 50 is: 110\n",
      "the sum of even numbers from 1 to 50 is: 132\n",
      "the sum of even numbers from 1 to 50 is: 156\n",
      "the sum of even numbers from 1 to 50 is: 182\n",
      "the sum of even numbers from 1 to 50 is: 210\n",
      "the sum of even numbers from 1 to 50 is: 240\n",
      "the sum of even numbers from 1 to 50 is: 272\n",
      "the sum of even numbers from 1 to 50 is: 306\n",
      "the sum of even numbers from 1 to 50 is: 342\n",
      "the sum of even numbers from 1 to 50 is: 380\n",
      "the sum of even numbers from 1 to 50 is: 420\n",
      "the sum of even numbers from 1 to 50 is: 462\n",
      "the sum of even numbers from 1 to 50 is: 506\n",
      "the sum of even numbers from 1 to 50 is: 552\n",
      "the sum of even numbers from 1 to 50 is: 600\n",
      "the sum of even numbers from 1 to 50 is: 650\n"
     ]
    }
   ],
   "source": [
    "#Write a Python program to find the sum of all even numbers between 1 and 50.\n",
    "sum_of_evens = 0\n",
    "for number in range(1,51):\n",
    "    if number % 2 == 0:\n",
    "        sum_of_evens += number\n",
    "        print(\"the sum of even numbers from 1 to 50 is:\", sum_of_evens)"
   ]
  },
  {
   "cell_type": "code",
   "execution_count": 93,
   "id": "d9a16f7e-a9a6-43f5-a192-b2208e10deaa",
   "metadata": {},
   "outputs": [
    {
     "name": "stdin",
     "output_type": "stream",
     "text": [
      "Enter the name:  taj mahal\n"
     ]
    },
    {
     "name": "stdout",
     "output_type": "stream",
     "text": [
      "laham jat"
     ]
    }
   ],
   "source": [
    "#Write a program to reverse a string using a while loop.\n",
    "name= str((input(\"Enter the name: \")))\n",
    "i = len(name) - 1\n",
    "\n",
    "while i >= 0:\n",
    "    print(name[i], end = '')\n",
    "    i = i - 1\n",
    "    "
   ]
  },
  {
   "cell_type": "code",
   "execution_count": 103,
   "id": "a4a420e7-dca5-4e32-b4c7-f46612c36431",
   "metadata": {},
   "outputs": [
    {
     "name": "stdin",
     "output_type": "stream",
     "text": [
      "Enter a non-negative integer:  5\n"
     ]
    },
    {
     "name": "stdout",
     "output_type": "stream",
     "text": [
      "The factorial is: 120\n"
     ]
    }
   ],
   "source": [
    " #Write a Python program to calculate the factorial of a number provided by the user using a while loop.\n",
    "num = int(input(\"Enter a non-negative integer: \"))\n",
    "if num < 0:\n",
    "    print(\"Factorial is not defined for negative numbers.\")\n",
    "else:\n",
    "    factorial = 1\n",
    "    while num > 0:\n",
    "        factorial *= num\n",
    "        num -= 1\n",
    "    print(\"The factorial is:\", factorial)"
   ]
  },
  {
   "cell_type": "code",
   "execution_count": null,
   "id": "b22573ca-3486-44b4-892f-5bd84ea6f1d8",
   "metadata": {},
   "outputs": [],
   "source": []
  }
 ],
 "metadata": {
  "kernelspec": {
   "display_name": "Python [conda env:base] *",
   "language": "python",
   "name": "conda-base-py"
  },
  "language_info": {
   "codemirror_mode": {
    "name": "ipython",
    "version": 3
   },
   "file_extension": ".py",
   "mimetype": "text/x-python",
   "name": "python",
   "nbconvert_exporter": "python",
   "pygments_lexer": "ipython3",
   "version": "3.12.7"
  }
 },
 "nbformat": 4,
 "nbformat_minor": 5
}
